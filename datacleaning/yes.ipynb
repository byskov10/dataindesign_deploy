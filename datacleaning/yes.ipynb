{
 "cells": [
  {
   "cell_type": "code",
   "execution_count": 2,
   "metadata": {},
   "outputs": [],
   "source": [
    "# %%\n",
    "# Import libraries\n",
    "import pandas as pd\n",
    "from database_actions import Database"
   ]
  },
  {
   "cell_type": "code",
   "execution_count": 5,
   "metadata": {},
   "outputs": [],
   "source": [
    "# # –––!! Import data !!–––\n",
    "database = Database()\n",
    "df_data = database.pull_dataset(\"PAll_eye_movements_cleaned\")\n",
    "\n",
    "# # –––!! Dataframe copy !!–––\n",
    "df_data1 = df_data\n",
    "df_data2 = df_data[ df_data[\"AOIMouse\"].str.contains(\"other\")==False]\n",
    "df_view = pd.DataFrame(df_data.groupby(\"ParticipantName\")[\"View\"].value_counts().reset_index(name='counts'))\n",
    "df_view2 = pd.DataFrame(df_data.groupby(\"ParticipantName\")[\"AOIGaze\"].value_counts().reset_index(name='counts'))\n",
    "df_click = df_data[df_data[\"MouseEvent\"] == \"Left\"]\n",
    "df_click = pd.DataFrame(df_click.groupby(\"ParticipantName\")[\"View\"].value_counts().reset_index(name='counts'))\n",
    "df_click = df_click.sort_values(by=\"ParticipantName\")\n",
    "df_click2 = pd.DataFrame(df_data.groupby(\"ParticipantName\")[\"AOIMouse\"].value_counts().reset_index(name='counts'))"
   ]
  },
  {
   "cell_type": "code",
   "execution_count": 7,
   "metadata": {},
   "outputs": [],
   "source": [
    "df_view.to_csv('df_view.csv', index=False)\n",
    "df_view2.to_csv('df_view2.csv', index=False)\n",
    "df_click.to_csv('df_click.csv', index=False)\n",
    "df_click2.to_csv('df_click2.csv', index=False)"
   ]
  },
  {
   "cell_type": "code",
   "execution_count": null,
   "metadata": {},
   "outputs": [],
   "source": []
  }
 ],
 "metadata": {
  "kernelspec": {
   "display_name": "venv",
   "language": "python",
   "name": "python3"
  },
  "language_info": {
   "codemirror_mode": {
    "name": "ipython",
    "version": 3
   },
   "file_extension": ".py",
   "mimetype": "text/x-python",
   "name": "python",
   "nbconvert_exporter": "python",
   "pygments_lexer": "ipython3",
   "version": "3.8.8"
  },
  "orig_nbformat": 4
 },
 "nbformat": 4,
 "nbformat_minor": 2
}
